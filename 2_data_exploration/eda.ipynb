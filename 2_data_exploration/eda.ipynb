{
 "cells": [
  {
   "cell_type": "code",
   "execution_count": 440,
   "id": "3c4c7c82-bad8-4e96-ae38-b089fa5612ae",
   "metadata": {},
   "outputs": [],
   "source": [
    "import pandas as pd\n",
    "#import sqlite3\n",
    "#pd.plotting.register_matplotlib_converters()\n",
    "import matplotlib.pyplot as plt\n",
    "import seaborn as sns\n",
    "\n",
    "titanic_data = pd.read_csv('train.csv', index_col = 'PassengerId')\n",
    "\n",
    "SURVIVED_COL = 'Survived'\n",
    "NAME_COL = 'Name'\n",
    "SEX_COL = 'Sex'\n",
    "CLASS_COL = 'Pclass'\n",
    "AGE_COL = 'Age'\n",
    "SIBSP_COL= 'SibSp'\n",
    "PARCH_COL = 'Parch'\n",
    "TICKET_COL ='Ticket'\n",
    "PRICE_COL = 'Fare'\n",
    "CABIN_COL = 'Cabin'\n",
    "PORT_COL = 'Embarked'\n",
    "STATUS_COL = 'Status'\n",
    "\n",
    "column_names = titanic_data.columns\n",
    "DATA_LEN = len(titanic_data)"
   ]
  },
  {
   "cell_type": "markdown",
   "id": "d07912a0",
   "metadata": {
    "tags": []
   },
   "source": [
    "# Context"
   ]
  },
  {
   "cell_type": "code",
   "execution_count": 441,
   "id": "38e0c62c-4244-4bad-9966-332a356755bc",
   "metadata": {},
   "outputs": [
    {
     "data": {
      "text/html": [
       "<div>\n",
       "<style scoped>\n",
       "    .dataframe tbody tr th:only-of-type {\n",
       "        vertical-align: middle;\n",
       "    }\n",
       "\n",
       "    .dataframe tbody tr th {\n",
       "        vertical-align: top;\n",
       "    }\n",
       "\n",
       "    .dataframe thead th {\n",
       "        text-align: right;\n",
       "    }\n",
       "</style>\n",
       "<table border=\"1\" class=\"dataframe\">\n",
       "  <thead>\n",
       "    <tr style=\"text-align: right;\">\n",
       "      <th></th>\n",
       "      <th>Survived</th>\n",
       "      <th>Pclass</th>\n",
       "      <th>Name</th>\n",
       "      <th>Sex</th>\n",
       "      <th>Age</th>\n",
       "      <th>SibSp</th>\n",
       "      <th>Parch</th>\n",
       "      <th>Ticket</th>\n",
       "      <th>Fare</th>\n",
       "      <th>Cabin</th>\n",
       "      <th>Embarked</th>\n",
       "    </tr>\n",
       "    <tr>\n",
       "      <th>PassengerId</th>\n",
       "      <th></th>\n",
       "      <th></th>\n",
       "      <th></th>\n",
       "      <th></th>\n",
       "      <th></th>\n",
       "      <th></th>\n",
       "      <th></th>\n",
       "      <th></th>\n",
       "      <th></th>\n",
       "      <th></th>\n",
       "      <th></th>\n",
       "    </tr>\n",
       "  </thead>\n",
       "  <tbody>\n",
       "    <tr>\n",
       "      <th>1</th>\n",
       "      <td>0</td>\n",
       "      <td>3</td>\n",
       "      <td>Braund, Mr. Owen Harris</td>\n",
       "      <td>male</td>\n",
       "      <td>22.0</td>\n",
       "      <td>1</td>\n",
       "      <td>0</td>\n",
       "      <td>A/5 21171</td>\n",
       "      <td>7.2500</td>\n",
       "      <td>NaN</td>\n",
       "      <td>S</td>\n",
       "    </tr>\n",
       "    <tr>\n",
       "      <th>2</th>\n",
       "      <td>1</td>\n",
       "      <td>1</td>\n",
       "      <td>Cumings, Mrs. John Bradley (Florence Briggs Th...</td>\n",
       "      <td>female</td>\n",
       "      <td>38.0</td>\n",
       "      <td>1</td>\n",
       "      <td>0</td>\n",
       "      <td>PC 17599</td>\n",
       "      <td>71.2833</td>\n",
       "      <td>C85</td>\n",
       "      <td>C</td>\n",
       "    </tr>\n",
       "    <tr>\n",
       "      <th>3</th>\n",
       "      <td>1</td>\n",
       "      <td>3</td>\n",
       "      <td>Heikkinen, Miss. Laina</td>\n",
       "      <td>female</td>\n",
       "      <td>26.0</td>\n",
       "      <td>0</td>\n",
       "      <td>0</td>\n",
       "      <td>STON/O2. 3101282</td>\n",
       "      <td>7.9250</td>\n",
       "      <td>NaN</td>\n",
       "      <td>S</td>\n",
       "    </tr>\n",
       "    <tr>\n",
       "      <th>4</th>\n",
       "      <td>1</td>\n",
       "      <td>1</td>\n",
       "      <td>Futrelle, Mrs. Jacques Heath (Lily May Peel)</td>\n",
       "      <td>female</td>\n",
       "      <td>35.0</td>\n",
       "      <td>1</td>\n",
       "      <td>0</td>\n",
       "      <td>113803</td>\n",
       "      <td>53.1000</td>\n",
       "      <td>C123</td>\n",
       "      <td>S</td>\n",
       "    </tr>\n",
       "    <tr>\n",
       "      <th>5</th>\n",
       "      <td>0</td>\n",
       "      <td>3</td>\n",
       "      <td>Allen, Mr. William Henry</td>\n",
       "      <td>male</td>\n",
       "      <td>35.0</td>\n",
       "      <td>0</td>\n",
       "      <td>0</td>\n",
       "      <td>373450</td>\n",
       "      <td>8.0500</td>\n",
       "      <td>NaN</td>\n",
       "      <td>S</td>\n",
       "    </tr>\n",
       "  </tbody>\n",
       "</table>\n",
       "</div>"
      ],
      "text/plain": [
       "             Survived  Pclass  \\\n",
       "PassengerId                     \n",
       "1                   0       3   \n",
       "2                   1       1   \n",
       "3                   1       3   \n",
       "4                   1       1   \n",
       "5                   0       3   \n",
       "\n",
       "                                                          Name     Sex   Age  \\\n",
       "PassengerId                                                                    \n",
       "1                                      Braund, Mr. Owen Harris    male  22.0   \n",
       "2            Cumings, Mrs. John Bradley (Florence Briggs Th...  female  38.0   \n",
       "3                                       Heikkinen, Miss. Laina  female  26.0   \n",
       "4                 Futrelle, Mrs. Jacques Heath (Lily May Peel)  female  35.0   \n",
       "5                                     Allen, Mr. William Henry    male  35.0   \n",
       "\n",
       "             SibSp  Parch            Ticket     Fare Cabin Embarked  \n",
       "PassengerId                                                          \n",
       "1                1      0         A/5 21171   7.2500   NaN        S  \n",
       "2                1      0          PC 17599  71.2833   C85        C  \n",
       "3                0      0  STON/O2. 3101282   7.9250   NaN        S  \n",
       "4                1      0            113803  53.1000  C123        S  \n",
       "5                0      0            373450   8.0500   NaN        S  "
      ]
     },
     "execution_count": 441,
     "metadata": {},
     "output_type": "execute_result"
    }
   ],
   "source": [
    "titanic_data.head(5)"
   ]
  },
  {
   "cell_type": "markdown",
   "id": "f9789a64-2835-41a8-bc36-8b70df9bc5cc",
   "metadata": {},
   "source": [
    "## Columns meaning\n",
    "* Name: Name of passenger\n",
    "* Survival: is or not survived(0 = No, 1 = Yes)\n",
    "* Pclass: Ticket class(1 = 1st, 2 = 2nd, 3 = 3rd)\n",
    "* Sex: Sex\n",
    "* Age: Age in years\n",
    "* Sibsp: count of siblings / spouses aboard the Titanic (brother, sister, stepbrother, stepsister; husband, wife (mistresses and fiancés were ignored))\n",
    "* Parch: count of parents / children aboard the Titanic (Some children travelled only with a nanny, therefore parch=0 for them)\n",
    "* Ticket: Ticket number\n",
    "* Fare: Ticket Price\n",
    "* Cabin: Cabin number\n",
    "* Embarked: Port of Embarkation (C = Cherbourg, Q = Queenstown, S = Southampton)"
   ]
  },
  {
   "cell_type": "code",
   "execution_count": 442,
   "id": "d0755049-ada7-4a49-a45c-6db4544c4d53",
   "metadata": {},
   "outputs": [
    {
     "name": "stdout",
     "output_type": "stream",
     "text": [
      "<class 'pandas.core.frame.DataFrame'>\n",
      "Int64Index: 891 entries, 1 to 891\n",
      "Data columns (total 11 columns):\n",
      " #   Column    Non-Null Count  Dtype  \n",
      "---  ------    --------------  -----  \n",
      " 0   Survived  891 non-null    int64  \n",
      " 1   Pclass    891 non-null    int64  \n",
      " 2   Name      891 non-null    object \n",
      " 3   Sex       891 non-null    object \n",
      " 4   Age       714 non-null    float64\n",
      " 5   SibSp     891 non-null    int64  \n",
      " 6   Parch     891 non-null    int64  \n",
      " 7   Ticket    891 non-null    object \n",
      " 8   Fare      891 non-null    float64\n",
      " 9   Cabin     204 non-null    object \n",
      " 10  Embarked  889 non-null    object \n",
      "dtypes: float64(2), int64(4), object(5)\n",
      "memory usage: 83.5+ KB\n"
     ]
    }
   ],
   "source": [
    "titanic_data.info()"
   ]
  },
  {
   "cell_type": "code",
   "execution_count": 443,
   "id": "fd6f8690-b817-42d5-b6b7-49b8405b0294",
   "metadata": {},
   "outputs": [
    {
     "data": {
      "text/plain": [
       "<AxesSubplot:ylabel='Survived'>"
      ]
     },
     "execution_count": 443,
     "metadata": {},
     "output_type": "execute_result"
    },
    {
     "data": {
      "image/png": "[encoded data removed]",
      "text/plain": [
       "<Figure size 432x288 with 1 Axes>"
      ]
     },
     "metadata": {},
     "output_type": "display_data"
    }
   ],
   "source": [
    "titanic_data[SURVIVED_COL].value_counts().plot.pie()"
   ]
  },
  {
   "cell_type": "code",
   "execution_count": 444,
   "id": "0e347240-7f51-42ff-ae03-fd01a02090bf",
   "metadata": {},
   "outputs": [
    {
     "data": {
      "text/plain": [
       "<AxesSubplot:ylabel='Sex'>"
      ]
     },
     "execution_count": 444,
     "metadata": {},
     "output_type": "execute_result"
    },
    {
     "data": {
      "image/png": "[encoded data removed]",
      "text/plain": [
       "<Figure size 432x288 with 1 Axes>"
      ]
     },
     "metadata": {},
     "output_type": "display_data"
    }
   ],
   "source": [
    "titanic_data[SEX_COL].value_counts().plot.pie()"
   ]
  },
  {
   "cell_type": "code",
   "execution_count": 445,
   "id": "fb668402-83f1-4c36-a50e-3b2bbb804882",
   "metadata": {},
   "outputs": [
    {
     "data": {
      "text/plain": [
       "Text(0.5, 1.0, 'Age')"
      ]
     },
     "execution_count": 445,
     "metadata": {},
     "output_type": "execute_result"
    },
    {
     "data": {
      "image/png": "[encoded data removed]",
      "text/plain": [
       "<Figure size 432x288 with 1 Axes>"
      ]
     },
     "metadata": {
      "needs_background": "light"
     },
     "output_type": "display_data"
    }
   ],
   "source": [
    "titanic_data[AGE_COL].plot(kind='hist', xlabel='Age').set_title('Age')"
   ]
  },
  {
   "cell_type": "code",
   "execution_count": 446,
   "id": "ff17f0e9-0939-4515-bef1-04c76077808f",
   "metadata": {},
   "outputs": [
    {
     "data": {
      "text/plain": [
       "Text(0.5, 1.0, 'Ticket price')"
      ]
     },
     "execution_count": 446,
     "metadata": {},
     "output_type": "execute_result"
    },
    {
     "data": {
      "image/png": "[encoded data removed]",
      "text/plain": [
       "<Figure size 432x288 with 1 Axes>"
      ]
     },
     "metadata": {
      "needs_background": "light"
     },
     "output_type": "display_data"
    }
   ],
   "source": [
    "titanic_data[PRICE_COL].plot(kind='hist').set_title('Ticket price')"
   ]
  },
  {
   "cell_type": "code",
   "execution_count": 447,
   "id": "974c66d4-1caf-4b17-8351-b4f923add3ed",
   "metadata": {},
   "outputs": [
    {
     "data": {
      "text/plain": [
       "<AxesSubplot:ylabel='Embarked'>"
      ]
     },
     "execution_count": 447,
     "metadata": {},
     "output_type": "execute_result"
    },
    {
     "data": {
      "image/png": "[encoded data removed]",
      "text/plain": [
       "<Figure size 432x288 with 1 Axes>"
      ]
     },
     "metadata": {},
     "output_type": "display_data"
    }
   ],
   "source": [
    "titanic_data[PORT_COL].value_counts().plot.pie()"
   ]
  },
  {
   "cell_type": "code",
   "execution_count": 448,
   "id": "335ea94f-1991-45bf-8aee-44d47b875754",
   "metadata": {},
   "outputs": [
    {
     "data": {
      "text/plain": [
       "<AxesSubplot:ylabel='Pclass'>"
      ]
     },
     "execution_count": 448,
     "metadata": {},
     "output_type": "execute_result"
    },
    {
     "data": {
      "image/png": "[encoded data removed]",
      "text/plain": [
       "<Figure size 432x288 with 1 Axes>"
      ]
     },
     "metadata": {},
     "output_type": "display_data"
    }
   ],
   "source": [
    "titanic_data[CLASS_COL].value_counts().plot.pie()"
   ]
  },
  {
   "cell_type": "code",
   "execution_count": 449,
   "id": "a68a5ebe-8e91-448b-9430-a6336567ff94",
   "metadata": {},
   "outputs": [
    {
     "data": {
      "text/plain": [
       "Text(0.5, 1.0, 'Siblings/Sproud abroad')"
      ]
     },
     "execution_count": 449,
     "metadata": {},
     "output_type": "execute_result"
    },
    {
     "data": {
      "image/png": "[encoded data removed]",
      "text/plain": [
       "<Figure size 432x288 with 1 Axes>"
      ]
     },
     "metadata": {
      "needs_background": "light"
     },
     "output_type": "display_data"
    }
   ],
   "source": [
    "titanic_data[SIBSP_COL].value_counts().sort_index().plot(kind='bar').set_title('Siblings/Sproud abroad')"
   ]
  },
  {
   "cell_type": "code",
   "execution_count": 450,
   "id": "83aa81d8-6938-4a27-97e5-d1f3f3730a18",
   "metadata": {},
   "outputs": [
    {
     "data": {
      "text/plain": [
       "Text(0.5, 1.0, 'Parents/Childs abroad')"
      ]
     },
     "execution_count": 450,
     "metadata": {},
     "output_type": "execute_result"
    },
    {
     "data": {
      "image/png": "[encoded data removed]",
      "text/plain": [
       "<Figure size 432x288 with 1 Axes>"
      ]
     },
     "metadata": {
      "needs_background": "light"
     },
     "output_type": "display_data"
    }
   ],
   "source": [
    "titanic_data[PARCH_COL].value_counts().sort_index().plot(kind='bar').set_title('Parents/Childs abroad')"
   ]
  },
  {
   "cell_type": "markdown",
   "id": "dd4e4816-86bd-4ea0-956c-a1f296fbbd26",
   "metadata": {},
   "source": [
    "Passanger names include the person status, that could be usefull for data analysis:"
   ]
  },
  {
   "cell_type": "code",
   "execution_count": 451,
   "id": "4b43e147-e29b-42b8-b63c-aecf97805ea8",
   "metadata": {},
   "outputs": [
    {
     "data": {
      "text/plain": [
       "Text(0.5, 1.0, 'Status')"
      ]
     },
     "execution_count": 451,
     "metadata": {},
     "output_type": "execute_result"
    },
    {
     "data": {
      "image/png": "[encoded data removed]",
      "text/plain": [
       "<Figure size 432x288 with 1 Axes>"
      ]
     },
     "metadata": {
      "needs_background": "light"
     },
     "output_type": "display_data"
    }
   ],
   "source": [
    "names_seria = titanic_data[NAME_COL].copy()\n",
    "for i in range(len(titanic_data)):\n",
    "    name = names_seria.iloc[i]    \n",
    "    names_seria.iloc[i] = name[name.find(',')+1:].split()[0]\n",
    "titanic_data['Status'] = names_seria\n",
    "index_of_the = titanic_data[titanic_data[STATUS_COL]=='the'].index[0]-1 #replacing the exception situation with the Countess.\n",
    "titanic_data.iat[index_of_the, 11] = 'Countess.'\n",
    "\n",
    "titanic_data[STATUS_COL].value_counts().plot(kind='bar').set_title('Status')"
   ]
  },
  {
   "cell_type": "markdown",
   "id": "56caab2a-bb78-4fc5-aabc-e14af98ffd98",
   "metadata": {},
   "source": [
    "On the moment of Titanic crash(11:40 pm), a lot of passengers should be in the cabins, that conditions the value of cabin information: \n",
    "https://habrastorage.org/r/w1560/files/ddf/307/0c6/ddf3070c69e0450184e35790f72917d1.jpeg\n",
    "The higher cabin should mean higher chanse of Survive."
   ]
  },
  {
   "cell_type": "markdown",
   "id": "9b4320c6",
   "metadata": {},
   "source": [
    "# Data quality assessment"
   ]
  },
  {
   "cell_type": "code",
   "execution_count": 452,
   "id": "40d8e25c-a0bd-427e-bea5-702ba0c4f8cc",
   "metadata": {},
   "outputs": [
    {
     "data": {
      "text/html": [
       "<div>\n",
       "<style scoped>\n",
       "    .dataframe tbody tr th:only-of-type {\n",
       "        vertical-align: middle;\n",
       "    }\n",
       "\n",
       "    .dataframe tbody tr th {\n",
       "        vertical-align: top;\n",
       "    }\n",
       "\n",
       "    .dataframe thead th {\n",
       "        text-align: right;\n",
       "    }\n",
       "</style>\n",
       "<table border=\"1\" class=\"dataframe\">\n",
       "  <thead>\n",
       "    <tr style=\"text-align: right;\">\n",
       "      <th></th>\n",
       "      <th>Survived</th>\n",
       "      <th>Pclass</th>\n",
       "      <th>Name</th>\n",
       "      <th>Sex</th>\n",
       "      <th>Age</th>\n",
       "      <th>SibSp</th>\n",
       "      <th>Parch</th>\n",
       "      <th>Ticket</th>\n",
       "      <th>Fare</th>\n",
       "      <th>Cabin</th>\n",
       "      <th>Embarked</th>\n",
       "      <th>Status</th>\n",
       "    </tr>\n",
       "    <tr>\n",
       "      <th>PassengerId</th>\n",
       "      <th></th>\n",
       "      <th></th>\n",
       "      <th></th>\n",
       "      <th></th>\n",
       "      <th></th>\n",
       "      <th></th>\n",
       "      <th></th>\n",
       "      <th></th>\n",
       "      <th></th>\n",
       "      <th></th>\n",
       "      <th></th>\n",
       "      <th></th>\n",
       "    </tr>\n",
       "  </thead>\n",
       "  <tbody>\n",
       "  </tbody>\n",
       "</table>\n",
       "</div>"
      ],
      "text/plain": [
       "Empty DataFrame\n",
       "Columns: [Survived, Pclass, Name, Sex, Age, SibSp, Parch, Ticket, Fare, Cabin, Embarked, Status]\n",
       "Index: []"
      ]
     },
     "execution_count": 452,
     "metadata": {},
     "output_type": "execute_result"
    }
   ],
   "source": [
    "titanic_data[titanic_data[NAME_COL].duplicated()]"
   ]
  },
  {
   "cell_type": "markdown",
   "id": "2a6205d2-9499-40ef-8c91-66192ebbbab2",
   "metadata": {},
   "source": [
    "No duplicated found"
   ]
  },
  {
   "cell_type": "code",
   "execution_count": 453,
   "id": "cafff2dc-50b4-4caf-87ca-2127a0df1d41",
   "metadata": {},
   "outputs": [
    {
     "name": "stdout",
     "output_type": "stream",
     "text": [
      "Columns with Nans:\n",
      "Age\n",
      "19.865319865319865% of Nans\n",
      "Cabin\n",
      "77.10437710437711% of Nans\n",
      "Embarked\n",
      "0.22446689113355783% of Nans\n"
     ]
    }
   ],
   "source": [
    "print('Columns with Nans:')\n",
    "for c in range(len(column_names)):\n",
    "    if titanic_data[column_names[c]].hasnans:\n",
    "        print (column_names[c])\n",
    "        print (str(len(titanic_data[titanic_data[column_names[c]].isna()]) / DATA_LEN *100) + '% of Nans')"
   ]
  },
  {
   "cell_type": "markdown",
   "id": "3aeff836-9a1b-49f3-b06e-67c835df2d05",
   "metadata": {},
   "source": [
    "Age gaps need to be replaced with the mean of person status"
   ]
  },
  {
   "cell_type": "code",
   "execution_count": 454,
   "id": "dbc7ac5b-f3d4-4e35-b8db-11a4828edfe4",
   "metadata": {},
   "outputs": [
    {
     "name": "stdout",
     "output_type": "stream",
     "text": [
      "Age column has Nans:False\n"
     ]
    }
   ],
   "source": [
    "list_of_statuses = titanic_data[STATUS_COL].unique()\n",
    "for i in range(len(list_of_statuses)):\n",
    "    status = list_of_statuses[i]\n",
    "    mean = titanic_data[titanic_data[STATUS_COL] == status][AGE_COL].dropna().mean()\n",
    "    mean = round(mean*2)/2\n",
    "    titanic_data[titanic_data[STATUS_COL] == status] = titanic_data[titanic_data[STATUS_COL] == status].fillna({AGE_COL:mean})\n",
    "    \n",
    "print('Age column has Nans:' + str(titanic_data[AGE_COL].hasnans))"
   ]
  },
  {
   "cell_type": "markdown",
   "id": "5d580dd2-ce43-41c8-81f9-22e2c48b5e70",
   "metadata": {},
   "source": [
    "Because of possible great importance of cabin information, we don't drop this column, though data is 77% missing."
   ]
  },
  {
   "cell_type": "code",
   "execution_count": 455,
   "id": "5f92ce67-48f4-4691-8278-9897e7ec224c",
   "metadata": {},
   "outputs": [
    {
     "data": {
      "text/plain": [
       "array([nan, 'C85', 'C123', 'E46', 'G6', 'C103', 'D56', 'A6',\n",
       "       'C23 C25 C27', 'B78', 'D33', 'B30', 'C52', 'B28', 'C83', 'F33',\n",
       "       'F G73', 'E31', 'A5', 'D10 D12', 'D26', 'C110', 'B58 B60', 'E101',\n",
       "       'F E69', 'D47', 'B86', 'F2', 'C2', 'E33', 'B19', 'A7', 'C49', 'F4',\n",
       "       'A32', 'B4', 'B80', 'A31', 'D36', 'D15', 'C93', 'C78', 'D35',\n",
       "       'C87', 'B77', 'E67', 'B94', 'C125', 'C99', 'C118', 'D7', 'A19',\n",
       "       'B49', 'D', 'C22 C26', 'C106', 'C65', 'E36', 'C54',\n",
       "       'B57 B59 B63 B66', 'C7', 'E34', 'C32', 'B18', 'C124', 'C91', 'E40',\n",
       "       'T', 'C128', 'D37', 'B35', 'E50', 'C82', 'B96 B98', 'E10', 'E44',\n",
       "       'A34', 'C104', 'C111', 'C92', 'E38', 'D21', 'E12', 'E63', 'A14',\n",
       "       'B37', 'C30', 'D20', 'B79', 'E25', 'D46', 'B73', 'C95', 'B38',\n",
       "       'B39', 'B22', 'C86', 'C70', 'A16', 'C101', 'C68', 'A10', 'E68',\n",
       "       'B41', 'A20', 'D19', 'D50', 'D9', 'A23', 'B50', 'A26', 'D48',\n",
       "       'E58', 'C126', 'B71', 'B51 B53 B55', 'D49', 'B5', 'B20', 'F G63',\n",
       "       'C62 C64', 'E24', 'C90', 'C45', 'E8', 'B101', 'D45', 'C46', 'D30',\n",
       "       'E121', 'D11', 'E77', 'F38', 'B3', 'D6', 'B82 B84', 'D17', 'A36',\n",
       "       'B102', 'B69', 'E49', 'C47', 'D28', 'E17', 'A24', 'C50', 'B42',\n",
       "       'C148'], dtype=object)"
      ]
     },
     "execution_count": 455,
     "metadata": {},
     "output_type": "execute_result"
    }
   ],
   "source": [
    "titanic_data[CABIN_COL].unique()"
   ]
  },
  {
   "cell_type": "markdown",
   "id": "e702a3ec-4bdc-4de2-9117-c3876641e8e8",
   "metadata": {},
   "source": [
    "In cabin T was living only one man, according to info from Encyclopedia Titanic, so it can be deleted.\n",
    "For others change we value just to the first letter to make the data easy to analyse. And fill the Nans."
   ]
  },
  {
   "cell_type": "code",
   "execution_count": 456,
   "id": "571b970e-6fba-4f4c-81c1-681e5cbb6363",
   "metadata": {},
   "outputs": [
    {
     "data": {
      "text/plain": [
       "['A', 'B', 'C', 'D', 'E', 'F', 'G', 'NO INFO']"
      ]
     },
     "execution_count": 456,
     "metadata": {},
     "output_type": "execute_result"
    }
   ],
   "source": [
    "titanic_data.at[titanic_data[CABIN_COL].notna(),CABIN_COL] = titanic_data[titanic_data[CABIN_COL].notna()][CABIN_COL].apply(lambda x : x[0:1])\n",
    "titanic_data[CABIN_COL] = titanic_data[CABIN_COL].fillna('NO INFO')\n",
    "titanic_data.at[titanic_data[CABIN_COL] == 'T',CABIN_COL] = 'NO INFO'\n",
    "sorted(titanic_data[CABIN_COL].unique())"
   ]
  },
  {
   "cell_type": "markdown",
   "id": "e0268d26-f5ee-4435-8aaf-58be2fc7a8eb",
   "metadata": {},
   "source": [
    "Embarked Port is missing only in two rows, so fill we just with the most popular - S"
   ]
  },
  {
   "cell_type": "code",
   "execution_count": 457,
   "id": "8cc1bfb1-4a62-4a07-936e-b44f01464da7",
   "metadata": {},
   "outputs": [],
   "source": [
    "titanic_data[PORT_COL] = titanic_data[PORT_COL].fillna('S')"
   ]
  },
  {
   "cell_type": "markdown",
   "id": "f259d81d-da39-47d2-ab1d-ed0fa6a7194c",
   "metadata": {},
   "source": [
    "There are ticket prices equal to 0, that must be an error. Fill we zeros with the mean of class price. "
   ]
  },
  {
   "cell_type": "code",
   "execution_count": 458,
   "id": "2ead320c-d922-4439-9373-af65284c6dcb",
   "metadata": {},
   "outputs": [],
   "source": [
    "for cl in range(3):\n",
    "    mask = titanic_data[CLASS_COL]==(cl+1)\n",
    "    mean_price = titanic_data.loc[mask][PRICE_COL].mean()\n",
    "    mask = mask & (titanic_data[PRICE_COL]==0)\n",
    "    titanic_data.loc[mask,PRICE_COL] = mean_price"
   ]
  },
  {
   "cell_type": "markdown",
   "id": "e0f07e57-4b66-4375-8e36-182977d65478",
   "metadata": {},
   "source": [
    "Now the plot look like this:"
   ]
  },
  {
   "cell_type": "code",
   "execution_count": 459,
   "id": "59e4ceb8-7c76-484b-8d32-d00602d0a1e3",
   "metadata": {},
   "outputs": [
    {
     "data": {
      "text/plain": [
       "Text(0.5, 1.0, 'Ticket price')"
      ]
     },
     "execution_count": 459,
     "metadata": {},
     "output_type": "execute_result"
    },
    {
     "data": {
      "image/png": "[encoded data removed]",
      "text/plain": [
       "<Figure size 432x288 with 1 Axes>"
      ]
     },
     "metadata": {
      "needs_background": "light"
     },
     "output_type": "display_data"
    }
   ],
   "source": [
    "titanic_data[PRICE_COL].plot(kind='hist').set_title('Ticket price')"
   ]
  },
  {
   "cell_type": "markdown",
   "id": "5408eca5",
   "metadata": {},
   "source": [
    "# Data exploration"
   ]
  },
  {
   "cell_type": "code",
   "execution_count": 460,
   "id": "21ff3f4e-e1bc-4ae4-8994-53a93fb52230",
   "metadata": {},
   "outputs": [],
   "source": [
    "#create a function that show the distribution of survived and not survived by the feature\n",
    "def bar_survive(feature):\n",
    "    survived = titanic_data[titanic_data[SURVIVED_COL]==1][feature].value_counts()\n",
    "    dead = titanic_data[titanic_data[SURVIVED_COL]==0][feature].value_counts()\n",
    "    if (\"NO INFO\" in survived.index):\n",
    "        survived = survived.drop(index='NO INFO')\n",
    "    if (\"NO INFO\" in dead.index):\n",
    "        dead = dead.drop(index='NO INFO')\n",
    "    df = pd.DataFrame([survived,dead])\n",
    "    df.index = ['Survived','Dead']\n",
    "    df.plot(kind ='bar',stacked='True')"
   ]
  },
  {
   "cell_type": "code",
   "execution_count": 461,
   "id": "9e42cd52-b117-475a-a49d-446058745ca0",
   "metadata": {},
   "outputs": [],
   "source": [
    "#the same with class\n",
    "def bar_class(feature):\n",
    "    first = titanic_data[titanic_data[CLASS_COL]==1][feature].value_counts()\n",
    "    second = titanic_data[titanic_data[CLASS_COL]==2][feature].value_counts()\n",
    "    third = titanic_data[titanic_data[CLASS_COL]==3][feature].value_counts()\n",
    "    df = pd.DataFrame([first, second,third])\n",
    "    df.index = ['First','Second','Third']\n",
    "    df.plot(kind ='bar',stacked='True')"
   ]
  },
  {
   "cell_type": "code",
   "execution_count": 462,
   "id": "66ad7a27-7f16-4e21-9f88-56f35a603d76",
   "metadata": {},
   "outputs": [
    {
     "data": {
      "text/plain": [
       "<AxesSubplot:>"
      ]
     },
     "execution_count": 462,
     "metadata": {},
     "output_type": "execute_result"
    },
    {
     "data": {
      "image/png": "[encoded data removed]",
      "text/plain": [
       "<Figure size 432x288 with 2 Axes>"
      ]
     },
     "metadata": {
      "needs_background": "light"
     },
     "output_type": "display_data"
    }
   ],
   "source": [
    "sns.heatmap(titanic_data.corr())"
   ]
  },
  {
   "cell_type": "markdown",
   "id": "586f7493-a926-410e-8c13-c7448abab4dd",
   "metadata": {},
   "source": [
    "The first strong correlation with survive chance is PClass."
   ]
  },
  {
   "cell_type": "code",
   "execution_count": 463,
   "id": "8719ec0b-9f79-470c-aff4-3b434021e8c3",
   "metadata": {},
   "outputs": [
    {
     "data": {
      "image/png": "[encoded data removed]",
      "text/plain": [
       "<Figure size 432x288 with 1 Axes>"
      ]
     },
     "metadata": {
      "needs_background": "light"
     },
     "output_type": "display_data"
    }
   ],
   "source": [
    "bar_survive(CLASS_COL)"
   ]
  },
  {
   "cell_type": "code",
   "execution_count": 468,
   "id": "56b545cb-55ea-4bed-a860-03c00235983a",
   "metadata": {},
   "outputs": [
    {
     "data": {
      "image/png": "[encoded data removed]",
      "text/plain": [
       "<Figure size 432x288 with 1 Axes>"
      ]
     },
     "metadata": {
      "needs_background": "light"
     },
     "output_type": "display_data"
    }
   ],
   "source": [
    "bar_survive(CABIN_COL)"
   ]
  },
  {
   "cell_type": "markdown",
   "id": "73b52329-5937-4e6e-818f-1dcb05912874",
   "metadata": {},
   "source": [
    "We can also see, that the fact of existing of cabin information increases the survive chance.\n",
    "But this fact correlates with PClass:"
   ]
  },
  {
   "cell_type": "code",
   "execution_count": 465,
   "id": "e608cf92-1542-469f-a390-46785d32a8a5",
   "metadata": {},
   "outputs": [
    {
     "data": {
      "image/png": "[encoded data removed]",
      "text/plain": [
       "<Figure size 432x288 with 1 Axes>"
      ]
     },
     "metadata": {
      "needs_background": "light"
     },
     "output_type": "display_data"
    }
   ],
   "source": [
    "bar_class(CABIN_COL)"
   ]
  },
  {
   "cell_type": "code",
   "execution_count": 466,
   "id": "b94cf2a8-f73c-4579-a06f-5e89d926826e",
   "metadata": {},
   "outputs": [
    {
     "data": {
      "image/png": "[encoded data removed]",
      "text/plain": [
       "<Figure size 432x288 with 1 Axes>"
      ]
     },
     "metadata": {
      "needs_background": "light"
     },
     "output_type": "display_data"
    }
   ],
   "source": [
    "bar_survive(SEX_COL)"
   ]
  },
  {
   "cell_type": "code",
   "execution_count": 467,
   "id": "cfeba0b2-0f33-45f3-8d7e-b261196456b7",
   "metadata": {},
   "outputs": [
    {
     "data": {
      "image/png": "[encoded data removed]",
      "text/plain": [
       "<Figure size 432x288 with 1 Axes>"
      ]
     },
     "metadata": {
      "needs_background": "light"
     },
     "output_type": "display_data"
    }
   ],
   "source": [
    "bar_survive(PORT_COL)"
   ]
  },
  {
   "cell_type": "markdown",
   "id": "034945c8",
   "metadata": {},
   "source": [
    "### Summary"
   ]
  },
  {
   "cell_type": "markdown",
   "id": "a3270eb4-f7b6-4ddb-beeb-181ceb203698",
   "metadata": {},
   "source": [
    "The most important factors of survive are:\n",
    "* female survived more than male\n",
    "* 3rd class increases chance of dead, 1st - of survive\n"
   ]
  }
 ],
 "metadata": {
  "kernelspec": {
   "display_name": "Python 3 (ipykernel)",
   "language": "python",
   "name": "python3"
  },
  "language_info": {
   "codemirror_mode": {
    "name": "ipython",
    "version": 3
   },
   "file_extension": ".py",
   "mimetype": "text/x-python",
   "name": "python",
   "nbconvert_exporter": "python",
   "pygments_lexer": "ipython3",
   "version": "3.9.7"
  },
  "toc": {
   "base_numbering": 1,
   "nav_menu": {},
   "number_sections": true,
   "sideBar": true,
   "skip_h1_title": false,
   "title_cell": "Table of Contents",
   "title_sidebar": "Contents",
   "toc_cell": false,
   "toc_position": {},
   "toc_section_display": true,
   "toc_window_display": false
  }
 },
 "nbformat": 4,
 "nbformat_minor": 5
}
